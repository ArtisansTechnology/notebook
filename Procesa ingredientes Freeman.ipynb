{
 "cells": [
  {
   "cell_type": "code",
   "execution_count": 2,
   "metadata": {},
   "outputs": [],
   "source": [
    "import csv\n",
    "import json\n",
    "import requests\n",
    "import pandas as pd\n",
    "import re\n",
    "from bs4 import BeautifulSoup\n",
    "import os"
   ]
  },
  {
   "cell_type": "code",
   "execution_count": 3,
   "metadata": {},
   "outputs": [],
   "source": [
    "raw_data_1 = pd.read_csv('ProductosFreeman_1.csv')\n",
    "raw_data_2 = pd.read_csv('ProductosFreeman_2.csv')\n",
    "raw_data_3 = pd.read_csv('ProductosFreeman_3.csv')\n",
    "raw_data = pd.concat([raw_data_1, raw_data_2, raw_data_3]).sort_index()"
   ]
  },
  {
   "cell_type": "code",
   "execution_count": 6,
   "metadata": {},
   "outputs": [],
   "source": [
    "lista = [x for x in raw_data['ingredientes']]\n",
    "\n",
    "results = []\n",
    "for este in lista:\n",
    "    for ingrediente in este.split(','):\n",
    "        results.append(ingrediente.strip())\n",
    "\n",
    "final = pd.DataFrame(results)\n",
    "final.rename(columns={final.columns[0]: \"ingredientes\"}, inplace=True)"
   ]
  },
  {
   "cell_type": "code",
   "execution_count": 7,
   "metadata": {},
   "outputs": [
    {
     "data": {
      "text/plain": [
       "GLYCERIN                                              57\n",
       "PHENOXYETHANOL                                        52\n",
       "DISODIUM EDTA                                         42\n",
       "FRAGRANCE/PARFUM                                      33\n",
       "Glycerin                                              32\n",
       "                                                      ..\n",
       "ACER SACCHARUM (SUGAR MAPLE) EXTRACT                   1\n",
       "2 HEXANEDIOL                                           1\n",
       "Salvia Officinalis (Sage) Extract                      1\n",
       "CAPRYLYL GLYCO                                         1\n",
       "Vaccinium Angustifolium (Blueberry)� Fruit Extract     1\n",
       "Name: ingredientes, Length: 884, dtype: int64"
      ]
     },
     "execution_count": 7,
     "metadata": {},
     "output_type": "execute_result"
    }
   ],
   "source": [
    "final['ingredientes'].value_counts()"
   ]
  },
  {
   "cell_type": "code",
   "execution_count": 9,
   "metadata": {},
   "outputs": [],
   "source": [
    "# final['ingredientes'].value_counts().to_csv('FreemanListaIngredientes.csv')"
   ]
  }
 ],
 "metadata": {
  "kernelspec": {
   "display_name": "Python 3",
   "language": "python",
   "name": "python3"
  },
  "language_info": {
   "codemirror_mode": {
    "name": "ipython",
    "version": 3
   },
   "file_extension": ".py",
   "mimetype": "text/x-python",
   "name": "python",
   "nbconvert_exporter": "python",
   "pygments_lexer": "ipython3",
   "version": "3.8.5"
  }
 },
 "nbformat": 4,
 "nbformat_minor": 4
}
